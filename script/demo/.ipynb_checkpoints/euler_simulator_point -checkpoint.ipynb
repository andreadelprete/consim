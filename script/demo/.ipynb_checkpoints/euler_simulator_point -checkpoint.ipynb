{
 "cells": [
  {
   "cell_type": "code",
   "execution_count": 1,
   "metadata": {},
   "outputs": [],
   "source": [
    "# constructs and simulates the drop of a point mass \n",
    "import numpy as np \n",
    "import pinocchio as pin \n",
    "import consim \n",
    "from pinocchio.robot_wrapper import RobotWrapper\n",
    "import os, sys\n",
    "from os.path import dirname, join"
   ]
  },
  {
   "cell_type": "code",
   "execution_count": 7,
   "metadata": {},
   "outputs": [],
   "source": [
    "# build the point mass model \n",
    "urdf_path = os.path.abspath('../models/urdf/free_flyer.urdf')\n",
    "mesh_path = os.path.abspath('../models')\n",
    "robot = RobotWrapper.BuildFromURDF(urdf_path, [mesh_path], pin.JointModelFreeFlyer()) "
   ]
  },
  {
   "cell_type": "code",
   "execution_count": 22,
   "metadata": {},
   "outputs": [],
   "source": [
    "dt = 1.e-3 \n",
    "ndt = 10 \n",
    "\n",
    "mu = 0.3                            # friction coefficient\n",
    "\n",
    "K = 1e5\n",
    "B = 3e2\n",
    "\n",
    "sim = consim.build_euler_simulator(dt, ndt, robot.model, robot.data,\n",
    "                                    K, B ,K, B, mu, mu)\n",
    "contact_names = ['root_joint']\n",
    "cpts = []\n",
    "for cf in contact_names:\n",
    "    if not robot.model.existFrame(cf):\n",
    "        print(\"ERROR: Frame\", cf, \"does not exist\")\n",
    "    cpts += [sim.add_contact_point(robot.model.getFrameId(cf))]\n",
    "\n"
   ]
  },
  {
   "cell_type": "code",
   "execution_count": null,
   "metadata": {},
   "outputs": [],
   "source": [
    "q0 = np.array([0., 0., 1., 0., 0., 0., 1.])\n",
    "dq0 = np.zeros(robot.nv)\n",
    "tau = np.zeros(robot.nv)\n",
    "robot.forwardKinematics(q0[:,None])\n"
   ]
  }
 ],
 "metadata": {
  "kernelspec": {
   "display_name": "Python 2",
   "language": "python",
   "name": "python2"
  },
  "language_info": {
   "codemirror_mode": {
    "name": "ipython",
    "version": 2
   },
   "file_extension": ".py",
   "mimetype": "text/x-python",
   "name": "python",
   "nbconvert_exporter": "python",
   "pygments_lexer": "ipython2",
   "version": "2.7.17"
  }
 },
 "nbformat": 4,
 "nbformat_minor": 2
}
